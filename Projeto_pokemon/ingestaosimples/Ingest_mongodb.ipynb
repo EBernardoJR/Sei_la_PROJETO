{
 "cells": [
  {
   "cell_type": "code",
   "execution_count": null,
   "metadata": {},
   "outputs": [],
   "source": [
    "#Instalar o Pymongo \n",
    "pip install --user pymongo"
   ]
  },
  {
   "cell_type": "code",
   "execution_count": 4,
   "metadata": {},
   "outputs": [],
   "source": [
    "#Importar para fazer o uso:\n",
    "import pymongo\n",
    "import pandas as pd"
   ]
  },
  {
   "cell_type": "code",
   "execution_count": 10,
   "metadata": {},
   "outputs": [],
   "source": [
    "#Para carregar o arquivo CSV\n",
    "df = pd.read_csv('C:/Users/aless/Desktop/alter/Sei_la_PROJETO/Projeto_pokemon/ingestaosimples/dataset_pokemon/Pokemon_alterados2.csv')"
   ]
  },
  {
   "cell_type": "code",
   "execution_count": 11,
   "metadata": {},
   "outputs": [],
   "source": [
    "# Conexão com o MongoDB\n",
    "host = 'localhost'\n",
    "port = 27017\n",
    "database_name = 'pokemon_db'\n",
    "collection_name = 'pokemon_name_hp_attack_defense_speed_type_1'"
   ]
  },
  {
   "cell_type": "code",
   "execution_count": 12,
   "metadata": {},
   "outputs": [],
   "source": [
    "mongo_client = pymongo.MongoClient('localhost', 27017)\n",
    "pokemon_db = mongo_client['pokemon_db']\n"
   ]
  },
  {
   "cell_type": "code",
   "execution_count": 13,
   "metadata": {},
   "outputs": [],
   "source": [
    "#Obter a coleção do mongodb\n",
    "mongo_collection = pokemon_db['pokemon_name_hp_attack_defense_speed_type_1']"
   ]
  },
  {
   "cell_type": "code",
   "execution_count": 14,
   "metadata": {},
   "outputs": [
    {
     "name": "stdout",
     "output_type": "stream",
     "text": [
      "Index(['ID', 'Name', 'Type 1', 'HP', 'Attack', 'Defense', 'Speed'], dtype='object')\n"
     ]
    }
   ],
   "source": [
    "# Verificar as colunas do existentes:\n",
    "print(df.columns)"
   ]
  },
  {
   "cell_type": "code",
   "execution_count": 15,
   "metadata": {},
   "outputs": [],
   "source": [
    "#Selecionar as colunas 'name', 'hp', 'attack', 'defense' , 'speed', 'Type 1'\n",
    "selected_columns = ['Name', 'HP', 'Attack', 'Defense', 'Speed', 'Type 1']"
   ]
  },
  {
   "cell_type": "code",
   "execution_count": 16,
   "metadata": {},
   "outputs": [],
   "source": [
    "#Escolher as colunas selecionadas e muda o nome:\n",
    "df_selected = df[selected_columns]\n",
    "df_selected.columns = ['name', 'hp', 'attack', 'defense', 'speed', 'type_1'] \n"
   ]
  },
  {
   "cell_type": "code",
   "execution_count": 17,
   "metadata": {},
   "outputs": [],
   "source": [
    "# Converter cada linha do DataFrame em um documento (dicionário) para inserção no mongodb\n",
    "documents = df_selected.to_dict(orient='records')"
   ]
  },
  {
   "cell_type": "code",
   "execution_count": 18,
   "metadata": {},
   "outputs": [
    {
     "data": {
      "text/plain": [
       "InsertManyResult([ObjectId('663ba2126fdc5cf578dd8756'), ObjectId('663ba2126fdc5cf578dd8757'), ObjectId('663ba2126fdc5cf578dd8758'), ObjectId('663ba2126fdc5cf578dd8759'), ObjectId('663ba2126fdc5cf578dd875a'), ObjectId('663ba2126fdc5cf578dd875b'), ObjectId('663ba2126fdc5cf578dd875c'), ObjectId('663ba2126fdc5cf578dd875d'), ObjectId('663ba2126fdc5cf578dd875e'), ObjectId('663ba2126fdc5cf578dd875f'), ObjectId('663ba2126fdc5cf578dd8760'), ObjectId('663ba2126fdc5cf578dd8761'), ObjectId('663ba2126fdc5cf578dd8762'), ObjectId('663ba2126fdc5cf578dd8763'), ObjectId('663ba2126fdc5cf578dd8764'), ObjectId('663ba2126fdc5cf578dd8765'), ObjectId('663ba2126fdc5cf578dd8766'), ObjectId('663ba2126fdc5cf578dd8767'), ObjectId('663ba2126fdc5cf578dd8768'), ObjectId('663ba2126fdc5cf578dd8769'), ObjectId('663ba2126fdc5cf578dd876a'), ObjectId('663ba2126fdc5cf578dd876b'), ObjectId('663ba2126fdc5cf578dd876c'), ObjectId('663ba2126fdc5cf578dd876d'), ObjectId('663ba2126fdc5cf578dd876e'), ObjectId('663ba2126fdc5cf578dd876f'), ObjectId('663ba2126fdc5cf578dd8770'), ObjectId('663ba2126fdc5cf578dd8771'), ObjectId('663ba2126fdc5cf578dd8772'), ObjectId('663ba2126fdc5cf578dd8773'), ObjectId('663ba2126fdc5cf578dd8774'), ObjectId('663ba2126fdc5cf578dd8775'), ObjectId('663ba2126fdc5cf578dd8776'), ObjectId('663ba2126fdc5cf578dd8777'), ObjectId('663ba2126fdc5cf578dd8778'), ObjectId('663ba2126fdc5cf578dd8779'), ObjectId('663ba2126fdc5cf578dd877a'), ObjectId('663ba2126fdc5cf578dd877b'), ObjectId('663ba2126fdc5cf578dd877c'), ObjectId('663ba2126fdc5cf578dd877d'), ObjectId('663ba2126fdc5cf578dd877e'), ObjectId('663ba2126fdc5cf578dd877f'), ObjectId('663ba2126fdc5cf578dd8780'), ObjectId('663ba2126fdc5cf578dd8781'), ObjectId('663ba2126fdc5cf578dd8782'), ObjectId('663ba2126fdc5cf578dd8783'), ObjectId('663ba2126fdc5cf578dd8784'), ObjectId('663ba2126fdc5cf578dd8785'), ObjectId('663ba2126fdc5cf578dd8786'), ObjectId('663ba2126fdc5cf578dd8787'), ObjectId('663ba2126fdc5cf578dd8788'), ObjectId('663ba2126fdc5cf578dd8789'), ObjectId('663ba2126fdc5cf578dd878a'), ObjectId('663ba2126fdc5cf578dd878b'), ObjectId('663ba2126fdc5cf578dd878c'), ObjectId('663ba2126fdc5cf578dd878d'), ObjectId('663ba2126fdc5cf578dd878e'), ObjectId('663ba2126fdc5cf578dd878f'), ObjectId('663ba2126fdc5cf578dd8790'), ObjectId('663ba2126fdc5cf578dd8791'), ObjectId('663ba2126fdc5cf578dd8792'), ObjectId('663ba2126fdc5cf578dd8793'), ObjectId('663ba2126fdc5cf578dd8794'), ObjectId('663ba2126fdc5cf578dd8795'), ObjectId('663ba2126fdc5cf578dd8796'), ObjectId('663ba2126fdc5cf578dd8797'), ObjectId('663ba2126fdc5cf578dd8798'), ObjectId('663ba2126fdc5cf578dd8799'), ObjectId('663ba2126fdc5cf578dd879a'), ObjectId('663ba2126fdc5cf578dd879b'), ObjectId('663ba2126fdc5cf578dd879c'), ObjectId('663ba2126fdc5cf578dd879d'), ObjectId('663ba2126fdc5cf578dd879e'), ObjectId('663ba2126fdc5cf578dd879f'), ObjectId('663ba2126fdc5cf578dd87a0'), ObjectId('663ba2126fdc5cf578dd87a1'), ObjectId('663ba2126fdc5cf578dd87a2'), ObjectId('663ba2126fdc5cf578dd87a3'), ObjectId('663ba2126fdc5cf578dd87a4'), ObjectId('663ba2126fdc5cf578dd87a5'), ObjectId('663ba2126fdc5cf578dd87a6'), ObjectId('663ba2126fdc5cf578dd87a7'), ObjectId('663ba2126fdc5cf578dd87a8'), ObjectId('663ba2126fdc5cf578dd87a9'), ObjectId('663ba2126fdc5cf578dd87aa'), ObjectId('663ba2126fdc5cf578dd87ab'), ObjectId('663ba2126fdc5cf578dd87ac'), ObjectId('663ba2126fdc5cf578dd87ad'), ObjectId('663ba2126fdc5cf578dd87ae'), ObjectId('663ba2126fdc5cf578dd87af'), ObjectId('663ba2126fdc5cf578dd87b0'), ObjectId('663ba2126fdc5cf578dd87b1'), ObjectId('663ba2126fdc5cf578dd87b2'), ObjectId('663ba2126fdc5cf578dd87b3'), ObjectId('663ba2126fdc5cf578dd87b4'), ObjectId('663ba2126fdc5cf578dd87b5'), ObjectId('663ba2126fdc5cf578dd87b6'), ObjectId('663ba2126fdc5cf578dd87b7'), ObjectId('663ba2126fdc5cf578dd87b8'), ObjectId('663ba2126fdc5cf578dd87b9'), ObjectId('663ba2126fdc5cf578dd87ba'), ObjectId('663ba2126fdc5cf578dd87bb'), ObjectId('663ba2126fdc5cf578dd87bc'), ObjectId('663ba2126fdc5cf578dd87bd'), ObjectId('663ba2126fdc5cf578dd87be'), ObjectId('663ba2126fdc5cf578dd87bf'), ObjectId('663ba2126fdc5cf578dd87c0'), ObjectId('663ba2126fdc5cf578dd87c1'), ObjectId('663ba2126fdc5cf578dd87c2'), ObjectId('663ba2126fdc5cf578dd87c3'), ObjectId('663ba2126fdc5cf578dd87c4'), ObjectId('663ba2126fdc5cf578dd87c5'), ObjectId('663ba2126fdc5cf578dd87c6'), ObjectId('663ba2126fdc5cf578dd87c7'), ObjectId('663ba2126fdc5cf578dd87c8'), ObjectId('663ba2126fdc5cf578dd87c9'), ObjectId('663ba2126fdc5cf578dd87ca'), ObjectId('663ba2126fdc5cf578dd87cb'), ObjectId('663ba2126fdc5cf578dd87cc'), ObjectId('663ba2126fdc5cf578dd87cd'), ObjectId('663ba2126fdc5cf578dd87ce'), ObjectId('663ba2126fdc5cf578dd87cf'), ObjectId('663ba2126fdc5cf578dd87d0'), ObjectId('663ba2126fdc5cf578dd87d1'), ObjectId('663ba2126fdc5cf578dd87d2'), ObjectId('663ba2126fdc5cf578dd87d3'), ObjectId('663ba2126fdc5cf578dd87d4'), ObjectId('663ba2126fdc5cf578dd87d5'), ObjectId('663ba2126fdc5cf578dd87d6'), ObjectId('663ba2126fdc5cf578dd87d7'), ObjectId('663ba2126fdc5cf578dd87d8'), ObjectId('663ba2126fdc5cf578dd87d9'), ObjectId('663ba2126fdc5cf578dd87da'), ObjectId('663ba2126fdc5cf578dd87db'), ObjectId('663ba2126fdc5cf578dd87dc'), ObjectId('663ba2126fdc5cf578dd87dd'), ObjectId('663ba2126fdc5cf578dd87de'), ObjectId('663ba2126fdc5cf578dd87df'), ObjectId('663ba2126fdc5cf578dd87e0'), ObjectId('663ba2126fdc5cf578dd87e1'), ObjectId('663ba2126fdc5cf578dd87e2'), ObjectId('663ba2126fdc5cf578dd87e3'), ObjectId('663ba2126fdc5cf578dd87e4'), ObjectId('663ba2126fdc5cf578dd87e5'), ObjectId('663ba2126fdc5cf578dd87e6'), ObjectId('663ba2126fdc5cf578dd87e7'), ObjectId('663ba2126fdc5cf578dd87e8'), ObjectId('663ba2126fdc5cf578dd87e9'), ObjectId('663ba2126fdc5cf578dd87ea'), ObjectId('663ba2126fdc5cf578dd87eb'), ObjectId('663ba2126fdc5cf578dd87ec'), ObjectId('663ba2126fdc5cf578dd87ed'), ObjectId('663ba2126fdc5cf578dd87ee'), ObjectId('663ba2126fdc5cf578dd87ef'), ObjectId('663ba2126fdc5cf578dd87f0'), ObjectId('663ba2126fdc5cf578dd87f1'), ObjectId('663ba2126fdc5cf578dd87f2'), ObjectId('663ba2126fdc5cf578dd87f3'), ObjectId('663ba2126fdc5cf578dd87f4'), ObjectId('663ba2126fdc5cf578dd87f5'), ObjectId('663ba2126fdc5cf578dd87f6'), ObjectId('663ba2126fdc5cf578dd87f7'), ObjectId('663ba2126fdc5cf578dd87f8'), ObjectId('663ba2126fdc5cf578dd87f9'), ObjectId('663ba2126fdc5cf578dd87fa'), ObjectId('663ba2126fdc5cf578dd87fb'), ObjectId('663ba2126fdc5cf578dd87fc'), ObjectId('663ba2126fdc5cf578dd87fd'), ObjectId('663ba2126fdc5cf578dd87fe'), ObjectId('663ba2126fdc5cf578dd87ff'), ObjectId('663ba2126fdc5cf578dd8800'), ObjectId('663ba2126fdc5cf578dd8801'), ObjectId('663ba2126fdc5cf578dd8802'), ObjectId('663ba2126fdc5cf578dd8803'), ObjectId('663ba2126fdc5cf578dd8804'), ObjectId('663ba2126fdc5cf578dd8805'), ObjectId('663ba2126fdc5cf578dd8806'), ObjectId('663ba2126fdc5cf578dd8807'), ObjectId('663ba2126fdc5cf578dd8808'), ObjectId('663ba2126fdc5cf578dd8809'), ObjectId('663ba2126fdc5cf578dd880a'), ObjectId('663ba2126fdc5cf578dd880b'), ObjectId('663ba2126fdc5cf578dd880c'), ObjectId('663ba2126fdc5cf578dd880d'), ObjectId('663ba2126fdc5cf578dd880e'), ObjectId('663ba2126fdc5cf578dd880f'), ObjectId('663ba2126fdc5cf578dd8810'), ObjectId('663ba2126fdc5cf578dd8811'), ObjectId('663ba2126fdc5cf578dd8812'), ObjectId('663ba2126fdc5cf578dd8813'), ObjectId('663ba2126fdc5cf578dd8814'), ObjectId('663ba2126fdc5cf578dd8815'), ObjectId('663ba2126fdc5cf578dd8816'), ObjectId('663ba2126fdc5cf578dd8817'), ObjectId('663ba2126fdc5cf578dd8818'), ObjectId('663ba2126fdc5cf578dd8819'), ObjectId('663ba2126fdc5cf578dd881a'), ObjectId('663ba2126fdc5cf578dd881b'), ObjectId('663ba2126fdc5cf578dd881c'), ObjectId('663ba2126fdc5cf578dd881d'), ObjectId('663ba2126fdc5cf578dd881e'), ObjectId('663ba2126fdc5cf578dd881f'), ObjectId('663ba2126fdc5cf578dd8820'), ObjectId('663ba2126fdc5cf578dd8821'), ObjectId('663ba2126fdc5cf578dd8822'), ObjectId('663ba2126fdc5cf578dd8823'), ObjectId('663ba2126fdc5cf578dd8824'), ObjectId('663ba2126fdc5cf578dd8825'), ObjectId('663ba2126fdc5cf578dd8826'), ObjectId('663ba2126fdc5cf578dd8827'), ObjectId('663ba2126fdc5cf578dd8828'), ObjectId('663ba2126fdc5cf578dd8829'), ObjectId('663ba2126fdc5cf578dd882a'), ObjectId('663ba2126fdc5cf578dd882b'), ObjectId('663ba2126fdc5cf578dd882c'), ObjectId('663ba2126fdc5cf578dd882d'), ObjectId('663ba2126fdc5cf578dd882e'), ObjectId('663ba2126fdc5cf578dd882f'), ObjectId('663ba2126fdc5cf578dd8830'), ObjectId('663ba2126fdc5cf578dd8831'), ObjectId('663ba2126fdc5cf578dd8832'), ObjectId('663ba2126fdc5cf578dd8833'), ObjectId('663ba2126fdc5cf578dd8834'), ObjectId('663ba2126fdc5cf578dd8835'), ObjectId('663ba2126fdc5cf578dd8836'), ObjectId('663ba2126fdc5cf578dd8837'), ObjectId('663ba2126fdc5cf578dd8838'), ObjectId('663ba2126fdc5cf578dd8839'), ObjectId('663ba2126fdc5cf578dd883a'), ObjectId('663ba2126fdc5cf578dd883b'), ObjectId('663ba2126fdc5cf578dd883c'), ObjectId('663ba2126fdc5cf578dd883d'), ObjectId('663ba2126fdc5cf578dd883e'), ObjectId('663ba2126fdc5cf578dd883f'), ObjectId('663ba2126fdc5cf578dd8840'), ObjectId('663ba2126fdc5cf578dd8841'), ObjectId('663ba2126fdc5cf578dd8842'), ObjectId('663ba2126fdc5cf578dd8843'), ObjectId('663ba2126fdc5cf578dd8844'), ObjectId('663ba2126fdc5cf578dd8845'), ObjectId('663ba2126fdc5cf578dd8846'), ObjectId('663ba2126fdc5cf578dd8847'), ObjectId('663ba2126fdc5cf578dd8848'), ObjectId('663ba2126fdc5cf578dd8849'), ObjectId('663ba2126fdc5cf578dd884a'), ObjectId('663ba2126fdc5cf578dd884b'), ObjectId('663ba2126fdc5cf578dd884c'), ObjectId('663ba2126fdc5cf578dd884d'), ObjectId('663ba2126fdc5cf578dd884e'), ObjectId('663ba2126fdc5cf578dd884f'), ObjectId('663ba2126fdc5cf578dd8850'), ObjectId('663ba2126fdc5cf578dd8851'), ObjectId('663ba2126fdc5cf578dd8852'), ObjectId('663ba2126fdc5cf578dd8853'), ObjectId('663ba2126fdc5cf578dd8854'), ObjectId('663ba2126fdc5cf578dd8855'), ObjectId('663ba2126fdc5cf578dd8856'), ObjectId('663ba2126fdc5cf578dd8857'), ObjectId('663ba2126fdc5cf578dd8858'), ObjectId('663ba2126fdc5cf578dd8859'), ObjectId('663ba2126fdc5cf578dd885a'), ObjectId('663ba2126fdc5cf578dd885b'), ObjectId('663ba2126fdc5cf578dd885c'), ObjectId('663ba2126fdc5cf578dd885d'), ObjectId('663ba2126fdc5cf578dd885e'), ObjectId('663ba2126fdc5cf578dd885f'), ObjectId('663ba2126fdc5cf578dd8860'), ObjectId('663ba2126fdc5cf578dd8861'), ObjectId('663ba2126fdc5cf578dd8862'), ObjectId('663ba2126fdc5cf578dd8863'), ObjectId('663ba2126fdc5cf578dd8864'), ObjectId('663ba2126fdc5cf578dd8865'), ObjectId('663ba2126fdc5cf578dd8866'), ObjectId('663ba2126fdc5cf578dd8867'), ObjectId('663ba2126fdc5cf578dd8868'), ObjectId('663ba2126fdc5cf578dd8869'), ObjectId('663ba2126fdc5cf578dd886a'), ObjectId('663ba2126fdc5cf578dd886b'), ObjectId('663ba2126fdc5cf578dd886c'), ObjectId('663ba2126fdc5cf578dd886d'), ObjectId('663ba2126fdc5cf578dd886e'), ObjectId('663ba2126fdc5cf578dd886f'), ObjectId('663ba2126fdc5cf578dd8870'), ObjectId('663ba2126fdc5cf578dd8871'), ObjectId('663ba2126fdc5cf578dd8872'), ObjectId('663ba2126fdc5cf578dd8873'), ObjectId('663ba2126fdc5cf578dd8874'), ObjectId('663ba2126fdc5cf578dd8875'), ObjectId('663ba2126fdc5cf578dd8876'), ObjectId('663ba2126fdc5cf578dd8877'), ObjectId('663ba2126fdc5cf578dd8878'), ObjectId('663ba2126fdc5cf578dd8879'), ObjectId('663ba2126fdc5cf578dd887a'), ObjectId('663ba2126fdc5cf578dd887b'), ObjectId('663ba2126fdc5cf578dd887c'), ObjectId('663ba2126fdc5cf578dd887d'), ObjectId('663ba2126fdc5cf578dd887e'), ObjectId('663ba2126fdc5cf578dd887f'), ObjectId('663ba2126fdc5cf578dd8880'), ObjectId('663ba2126fdc5cf578dd8881'), ObjectId('663ba2126fdc5cf578dd8882'), ObjectId('663ba2126fdc5cf578dd8883'), ObjectId('663ba2126fdc5cf578dd8884'), ObjectId('663ba2126fdc5cf578dd8885'), ObjectId('663ba2126fdc5cf578dd8886'), ObjectId('663ba2126fdc5cf578dd8887'), ObjectId('663ba2126fdc5cf578dd8888'), ObjectId('663ba2126fdc5cf578dd8889'), ObjectId('663ba2126fdc5cf578dd888a'), ObjectId('663ba2126fdc5cf578dd888b'), ObjectId('663ba2126fdc5cf578dd888c'), ObjectId('663ba2126fdc5cf578dd888d'), ObjectId('663ba2126fdc5cf578dd888e'), ObjectId('663ba2126fdc5cf578dd888f'), ObjectId('663ba2126fdc5cf578dd8890'), ObjectId('663ba2126fdc5cf578dd8891'), ObjectId('663ba2126fdc5cf578dd8892'), ObjectId('663ba2126fdc5cf578dd8893'), ObjectId('663ba2126fdc5cf578dd8894'), ObjectId('663ba2126fdc5cf578dd8895'), ObjectId('663ba2126fdc5cf578dd8896'), ObjectId('663ba2126fdc5cf578dd8897'), ObjectId('663ba2126fdc5cf578dd8898'), ObjectId('663ba2126fdc5cf578dd8899'), ObjectId('663ba2126fdc5cf578dd889a'), ObjectId('663ba2126fdc5cf578dd889b'), ObjectId('663ba2126fdc5cf578dd889c'), ObjectId('663ba2126fdc5cf578dd889d'), ObjectId('663ba2126fdc5cf578dd889e'), ObjectId('663ba2126fdc5cf578dd889f'), ObjectId('663ba2126fdc5cf578dd88a0'), ObjectId('663ba2126fdc5cf578dd88a1'), ObjectId('663ba2126fdc5cf578dd88a2'), ObjectId('663ba2126fdc5cf578dd88a3'), ObjectId('663ba2126fdc5cf578dd88a4'), ObjectId('663ba2126fdc5cf578dd88a5'), ObjectId('663ba2126fdc5cf578dd88a6'), ObjectId('663ba2126fdc5cf578dd88a7'), ObjectId('663ba2126fdc5cf578dd88a8'), ObjectId('663ba2126fdc5cf578dd88a9'), ObjectId('663ba2126fdc5cf578dd88aa'), ObjectId('663ba2126fdc5cf578dd88ab'), ObjectId('663ba2126fdc5cf578dd88ac'), ObjectId('663ba2126fdc5cf578dd88ad'), ObjectId('663ba2126fdc5cf578dd88ae'), ObjectId('663ba2126fdc5cf578dd88af'), ObjectId('663ba2126fdc5cf578dd88b0'), ObjectId('663ba2126fdc5cf578dd88b1'), ObjectId('663ba2126fdc5cf578dd88b2'), ObjectId('663ba2126fdc5cf578dd88b3'), ObjectId('663ba2126fdc5cf578dd88b4'), ObjectId('663ba2126fdc5cf578dd88b5'), ObjectId('663ba2126fdc5cf578dd88b6'), ObjectId('663ba2126fdc5cf578dd88b7'), ObjectId('663ba2126fdc5cf578dd88b8'), ObjectId('663ba2126fdc5cf578dd88b9'), ObjectId('663ba2126fdc5cf578dd88ba'), ObjectId('663ba2126fdc5cf578dd88bb'), ObjectId('663ba2126fdc5cf578dd88bc'), ObjectId('663ba2126fdc5cf578dd88bd'), ObjectId('663ba2126fdc5cf578dd88be'), ObjectId('663ba2126fdc5cf578dd88bf'), ObjectId('663ba2126fdc5cf578dd88c0'), ObjectId('663ba2126fdc5cf578dd88c1'), ObjectId('663ba2126fdc5cf578dd88c2'), ObjectId('663ba2126fdc5cf578dd88c3'), ObjectId('663ba2126fdc5cf578dd88c4'), ObjectId('663ba2126fdc5cf578dd88c5'), ObjectId('663ba2126fdc5cf578dd88c6'), ObjectId('663ba2126fdc5cf578dd88c7'), ObjectId('663ba2126fdc5cf578dd88c8'), ObjectId('663ba2126fdc5cf578dd88c9'), ObjectId('663ba2126fdc5cf578dd88ca'), ObjectId('663ba2126fdc5cf578dd88cb'), ObjectId('663ba2126fdc5cf578dd88cc'), ObjectId('663ba2126fdc5cf578dd88cd'), ObjectId('663ba2126fdc5cf578dd88ce'), ObjectId('663ba2126fdc5cf578dd88cf'), ObjectId('663ba2126fdc5cf578dd88d0'), ObjectId('663ba2126fdc5cf578dd88d1'), ObjectId('663ba2126fdc5cf578dd88d2'), ObjectId('663ba2126fdc5cf578dd88d3'), ObjectId('663ba2126fdc5cf578dd88d4'), ObjectId('663ba2126fdc5cf578dd88d5'), ObjectId('663ba2126fdc5cf578dd88d6'), ObjectId('663ba2126fdc5cf578dd88d7'), ObjectId('663ba2126fdc5cf578dd88d8'), ObjectId('663ba2126fdc5cf578dd88d9'), ObjectId('663ba2126fdc5cf578dd88da'), ObjectId('663ba2126fdc5cf578dd88db'), ObjectId('663ba2126fdc5cf578dd88dc'), ObjectId('663ba2126fdc5cf578dd88dd'), ObjectId('663ba2126fdc5cf578dd88de'), ObjectId('663ba2126fdc5cf578dd88df'), ObjectId('663ba2126fdc5cf578dd88e0'), ObjectId('663ba2126fdc5cf578dd88e1'), ObjectId('663ba2126fdc5cf578dd88e2'), ObjectId('663ba2126fdc5cf578dd88e3'), ObjectId('663ba2126fdc5cf578dd88e4'), ObjectId('663ba2126fdc5cf578dd88e5'), ObjectId('663ba2126fdc5cf578dd88e6'), ObjectId('663ba2126fdc5cf578dd88e7'), ObjectId('663ba2126fdc5cf578dd88e8'), ObjectId('663ba2126fdc5cf578dd88e9'), ObjectId('663ba2126fdc5cf578dd88ea'), ObjectId('663ba2126fdc5cf578dd88eb'), ObjectId('663ba2126fdc5cf578dd88ec'), ObjectId('663ba2126fdc5cf578dd88ed'), ObjectId('663ba2126fdc5cf578dd88ee'), ObjectId('663ba2126fdc5cf578dd88ef'), ObjectId('663ba2126fdc5cf578dd88f0'), ObjectId('663ba2126fdc5cf578dd88f1'), ObjectId('663ba2126fdc5cf578dd88f2'), ObjectId('663ba2126fdc5cf578dd88f3'), ObjectId('663ba2126fdc5cf578dd88f4'), ObjectId('663ba2126fdc5cf578dd88f5'), ObjectId('663ba2126fdc5cf578dd88f6'), ObjectId('663ba2126fdc5cf578dd88f7'), ObjectId('663ba2126fdc5cf578dd88f8'), ObjectId('663ba2126fdc5cf578dd88f9'), ObjectId('663ba2126fdc5cf578dd88fa'), ObjectId('663ba2126fdc5cf578dd88fb'), ObjectId('663ba2126fdc5cf578dd88fc'), ObjectId('663ba2126fdc5cf578dd88fd'), ObjectId('663ba2126fdc5cf578dd88fe'), ObjectId('663ba2126fdc5cf578dd88ff'), ObjectId('663ba2126fdc5cf578dd8900'), ObjectId('663ba2126fdc5cf578dd8901'), ObjectId('663ba2126fdc5cf578dd8902'), ObjectId('663ba2126fdc5cf578dd8903'), ObjectId('663ba2126fdc5cf578dd8904'), ObjectId('663ba2126fdc5cf578dd8905'), ObjectId('663ba2126fdc5cf578dd8906'), ObjectId('663ba2126fdc5cf578dd8907'), ObjectId('663ba2126fdc5cf578dd8908'), ObjectId('663ba2126fdc5cf578dd8909'), ObjectId('663ba2126fdc5cf578dd890a'), ObjectId('663ba2126fdc5cf578dd890b'), ObjectId('663ba2126fdc5cf578dd890c'), ObjectId('663ba2126fdc5cf578dd890d'), ObjectId('663ba2126fdc5cf578dd890e'), ObjectId('663ba2126fdc5cf578dd890f'), ObjectId('663ba2126fdc5cf578dd8910'), ObjectId('663ba2126fdc5cf578dd8911'), ObjectId('663ba2126fdc5cf578dd8912'), ObjectId('663ba2126fdc5cf578dd8913'), ObjectId('663ba2126fdc5cf578dd8914'), ObjectId('663ba2126fdc5cf578dd8915'), ObjectId('663ba2126fdc5cf578dd8916'), ObjectId('663ba2126fdc5cf578dd8917'), ObjectId('663ba2126fdc5cf578dd8918'), ObjectId('663ba2126fdc5cf578dd8919'), ObjectId('663ba2126fdc5cf578dd891a'), ObjectId('663ba2126fdc5cf578dd891b'), ObjectId('663ba2126fdc5cf578dd891c'), ObjectId('663ba2126fdc5cf578dd891d'), ObjectId('663ba2126fdc5cf578dd891e'), ObjectId('663ba2126fdc5cf578dd891f'), ObjectId('663ba2126fdc5cf578dd8920'), ObjectId('663ba2126fdc5cf578dd8921'), ObjectId('663ba2126fdc5cf578dd8922'), ObjectId('663ba2126fdc5cf578dd8923'), ObjectId('663ba2126fdc5cf578dd8924'), ObjectId('663ba2126fdc5cf578dd8925'), ObjectId('663ba2126fdc5cf578dd8926'), ObjectId('663ba2126fdc5cf578dd8927'), ObjectId('663ba2126fdc5cf578dd8928'), ObjectId('663ba2126fdc5cf578dd8929'), ObjectId('663ba2126fdc5cf578dd892a'), ObjectId('663ba2126fdc5cf578dd892b'), ObjectId('663ba2126fdc5cf578dd892c'), ObjectId('663ba2126fdc5cf578dd892d'), ObjectId('663ba2126fdc5cf578dd892e'), ObjectId('663ba2126fdc5cf578dd892f'), ObjectId('663ba2126fdc5cf578dd8930'), ObjectId('663ba2126fdc5cf578dd8931'), ObjectId('663ba2126fdc5cf578dd8932'), ObjectId('663ba2126fdc5cf578dd8933'), ObjectId('663ba2126fdc5cf578dd8934'), ObjectId('663ba2126fdc5cf578dd8935'), ObjectId('663ba2126fdc5cf578dd8936'), ObjectId('663ba2126fdc5cf578dd8937'), ObjectId('663ba2126fdc5cf578dd8938'), ObjectId('663ba2126fdc5cf578dd8939'), ObjectId('663ba2126fdc5cf578dd893a'), ObjectId('663ba2126fdc5cf578dd893b'), ObjectId('663ba2126fdc5cf578dd893c'), ObjectId('663ba2126fdc5cf578dd893d'), ObjectId('663ba2126fdc5cf578dd893e'), ObjectId('663ba2126fdc5cf578dd893f'), ObjectId('663ba2126fdc5cf578dd8940'), ObjectId('663ba2126fdc5cf578dd8941'), ObjectId('663ba2126fdc5cf578dd8942'), ObjectId('663ba2126fdc5cf578dd8943'), ObjectId('663ba2126fdc5cf578dd8944'), ObjectId('663ba2126fdc5cf578dd8945'), ObjectId('663ba2126fdc5cf578dd8946'), ObjectId('663ba2126fdc5cf578dd8947'), ObjectId('663ba2126fdc5cf578dd8948'), ObjectId('663ba2126fdc5cf578dd8949'), ObjectId('663ba2126fdc5cf578dd894a'), ObjectId('663ba2126fdc5cf578dd894b'), ObjectId('663ba2126fdc5cf578dd894c'), ObjectId('663ba2126fdc5cf578dd894d'), ObjectId('663ba2126fdc5cf578dd894e'), ObjectId('663ba2126fdc5cf578dd894f'), ObjectId('663ba2126fdc5cf578dd8950'), ObjectId('663ba2126fdc5cf578dd8951'), ObjectId('663ba2126fdc5cf578dd8952'), ObjectId('663ba2126fdc5cf578dd8953'), ObjectId('663ba2126fdc5cf578dd8954'), ObjectId('663ba2126fdc5cf578dd8955'), ObjectId('663ba2126fdc5cf578dd8956'), ObjectId('663ba2126fdc5cf578dd8957'), ObjectId('663ba2126fdc5cf578dd8958'), ObjectId('663ba2126fdc5cf578dd8959'), ObjectId('663ba2126fdc5cf578dd895a'), ObjectId('663ba2126fdc5cf578dd895b'), ObjectId('663ba2126fdc5cf578dd895c'), ObjectId('663ba2126fdc5cf578dd895d'), ObjectId('663ba2126fdc5cf578dd895e'), ObjectId('663ba2126fdc5cf578dd895f'), ObjectId('663ba2126fdc5cf578dd8960'), ObjectId('663ba2126fdc5cf578dd8961'), ObjectId('663ba2126fdc5cf578dd8962'), ObjectId('663ba2126fdc5cf578dd8963'), ObjectId('663ba2126fdc5cf578dd8964'), ObjectId('663ba2126fdc5cf578dd8965'), ObjectId('663ba2126fdc5cf578dd8966'), ObjectId('663ba2126fdc5cf578dd8967'), ObjectId('663ba2126fdc5cf578dd8968'), ObjectId('663ba2126fdc5cf578dd8969'), ObjectId('663ba2126fdc5cf578dd896a'), ObjectId('663ba2126fdc5cf578dd896b'), ObjectId('663ba2126fdc5cf578dd896c'), ObjectId('663ba2126fdc5cf578dd896d'), ObjectId('663ba2126fdc5cf578dd896e'), ObjectId('663ba2126fdc5cf578dd896f'), ObjectId('663ba2126fdc5cf578dd8970'), ObjectId('663ba2126fdc5cf578dd8971'), ObjectId('663ba2126fdc5cf578dd8972'), ObjectId('663ba2126fdc5cf578dd8973'), ObjectId('663ba2126fdc5cf578dd8974'), ObjectId('663ba2126fdc5cf578dd8975'), ObjectId('663ba2126fdc5cf578dd8976'), ObjectId('663ba2126fdc5cf578dd8977'), ObjectId('663ba2126fdc5cf578dd8978'), ObjectId('663ba2126fdc5cf578dd8979'), ObjectId('663ba2126fdc5cf578dd897a'), ObjectId('663ba2126fdc5cf578dd897b'), ObjectId('663ba2126fdc5cf578dd897c'), ObjectId('663ba2126fdc5cf578dd897d'), ObjectId('663ba2126fdc5cf578dd897e'), ObjectId('663ba2126fdc5cf578dd897f'), ObjectId('663ba2126fdc5cf578dd8980'), ObjectId('663ba2126fdc5cf578dd8981'), ObjectId('663ba2126fdc5cf578dd8982'), ObjectId('663ba2126fdc5cf578dd8983'), ObjectId('663ba2126fdc5cf578dd8984'), ObjectId('663ba2126fdc5cf578dd8985'), ObjectId('663ba2126fdc5cf578dd8986'), ObjectId('663ba2126fdc5cf578dd8987'), ObjectId('663ba2126fdc5cf578dd8988'), ObjectId('663ba2126fdc5cf578dd8989'), ObjectId('663ba2126fdc5cf578dd898a'), ObjectId('663ba2126fdc5cf578dd898b'), ObjectId('663ba2126fdc5cf578dd898c'), ObjectId('663ba2126fdc5cf578dd898d'), ObjectId('663ba2126fdc5cf578dd898e'), ObjectId('663ba2126fdc5cf578dd898f'), ObjectId('663ba2126fdc5cf578dd8990'), ObjectId('663ba2126fdc5cf578dd8991'), ObjectId('663ba2126fdc5cf578dd8992'), ObjectId('663ba2126fdc5cf578dd8993'), ObjectId('663ba2126fdc5cf578dd8994'), ObjectId('663ba2126fdc5cf578dd8995'), ObjectId('663ba2126fdc5cf578dd8996'), ObjectId('663ba2126fdc5cf578dd8997'), ObjectId('663ba2126fdc5cf578dd8998'), ObjectId('663ba2126fdc5cf578dd8999'), ObjectId('663ba2126fdc5cf578dd899a'), ObjectId('663ba2126fdc5cf578dd899b'), ObjectId('663ba2126fdc5cf578dd899c'), ObjectId('663ba2126fdc5cf578dd899d'), ObjectId('663ba2126fdc5cf578dd899e'), ObjectId('663ba2126fdc5cf578dd899f'), ObjectId('663ba2126fdc5cf578dd89a0'), ObjectId('663ba2126fdc5cf578dd89a1'), ObjectId('663ba2126fdc5cf578dd89a2'), ObjectId('663ba2126fdc5cf578dd89a3'), ObjectId('663ba2126fdc5cf578dd89a4'), ObjectId('663ba2126fdc5cf578dd89a5'), ObjectId('663ba2126fdc5cf578dd89a6'), ObjectId('663ba2126fdc5cf578dd89a7'), ObjectId('663ba2126fdc5cf578dd89a8'), ObjectId('663ba2126fdc5cf578dd89a9'), ObjectId('663ba2126fdc5cf578dd89aa'), ObjectId('663ba2126fdc5cf578dd89ab'), ObjectId('663ba2126fdc5cf578dd89ac'), ObjectId('663ba2126fdc5cf578dd89ad'), ObjectId('663ba2126fdc5cf578dd89ae'), ObjectId('663ba2126fdc5cf578dd89af'), ObjectId('663ba2126fdc5cf578dd89b0'), ObjectId('663ba2126fdc5cf578dd89b1'), ObjectId('663ba2126fdc5cf578dd89b2'), ObjectId('663ba2126fdc5cf578dd89b3'), ObjectId('663ba2126fdc5cf578dd89b4'), ObjectId('663ba2126fdc5cf578dd89b5'), ObjectId('663ba2126fdc5cf578dd89b6'), ObjectId('663ba2126fdc5cf578dd89b7'), ObjectId('663ba2126fdc5cf578dd89b8'), ObjectId('663ba2126fdc5cf578dd89b9'), ObjectId('663ba2126fdc5cf578dd89ba'), ObjectId('663ba2126fdc5cf578dd89bb'), ObjectId('663ba2126fdc5cf578dd89bc'), ObjectId('663ba2126fdc5cf578dd89bd'), ObjectId('663ba2126fdc5cf578dd89be'), ObjectId('663ba2126fdc5cf578dd89bf'), ObjectId('663ba2126fdc5cf578dd89c0'), ObjectId('663ba2126fdc5cf578dd89c1'), ObjectId('663ba2126fdc5cf578dd89c2'), ObjectId('663ba2126fdc5cf578dd89c3'), ObjectId('663ba2126fdc5cf578dd89c4'), ObjectId('663ba2126fdc5cf578dd89c5'), ObjectId('663ba2126fdc5cf578dd89c6'), ObjectId('663ba2126fdc5cf578dd89c7'), ObjectId('663ba2126fdc5cf578dd89c8'), ObjectId('663ba2126fdc5cf578dd89c9'), ObjectId('663ba2126fdc5cf578dd89ca'), ObjectId('663ba2126fdc5cf578dd89cb'), ObjectId('663ba2126fdc5cf578dd89cc'), ObjectId('663ba2126fdc5cf578dd89cd'), ObjectId('663ba2126fdc5cf578dd89ce'), ObjectId('663ba2126fdc5cf578dd89cf'), ObjectId('663ba2126fdc5cf578dd89d0'), ObjectId('663ba2126fdc5cf578dd89d1'), ObjectId('663ba2126fdc5cf578dd89d2'), ObjectId('663ba2126fdc5cf578dd89d3'), ObjectId('663ba2126fdc5cf578dd89d4'), ObjectId('663ba2126fdc5cf578dd89d5'), ObjectId('663ba2126fdc5cf578dd89d6'), ObjectId('663ba2126fdc5cf578dd89d7'), ObjectId('663ba2126fdc5cf578dd89d8'), ObjectId('663ba2126fdc5cf578dd89d9'), ObjectId('663ba2126fdc5cf578dd89da'), ObjectId('663ba2126fdc5cf578dd89db'), ObjectId('663ba2126fdc5cf578dd89dc'), ObjectId('663ba2126fdc5cf578dd89dd'), ObjectId('663ba2126fdc5cf578dd89de'), ObjectId('663ba2126fdc5cf578dd89df'), ObjectId('663ba2126fdc5cf578dd89e0'), ObjectId('663ba2126fdc5cf578dd89e1'), ObjectId('663ba2126fdc5cf578dd89e2'), ObjectId('663ba2126fdc5cf578dd89e3'), ObjectId('663ba2126fdc5cf578dd89e4'), ObjectId('663ba2126fdc5cf578dd89e5'), ObjectId('663ba2126fdc5cf578dd89e6'), ObjectId('663ba2126fdc5cf578dd89e7'), ObjectId('663ba2126fdc5cf578dd89e8'), ObjectId('663ba2126fdc5cf578dd89e9'), ObjectId('663ba2126fdc5cf578dd89ea'), ObjectId('663ba2126fdc5cf578dd89eb'), ObjectId('663ba2126fdc5cf578dd89ec'), ObjectId('663ba2126fdc5cf578dd89ed'), ObjectId('663ba2126fdc5cf578dd89ee'), ObjectId('663ba2126fdc5cf578dd89ef'), ObjectId('663ba2126fdc5cf578dd89f0'), ObjectId('663ba2126fdc5cf578dd89f1'), ObjectId('663ba2126fdc5cf578dd89f2'), ObjectId('663ba2126fdc5cf578dd89f3'), ObjectId('663ba2126fdc5cf578dd89f4'), ObjectId('663ba2126fdc5cf578dd89f5'), ObjectId('663ba2126fdc5cf578dd89f6'), ObjectId('663ba2126fdc5cf578dd89f7'), ObjectId('663ba2126fdc5cf578dd89f8'), ObjectId('663ba2126fdc5cf578dd89f9'), ObjectId('663ba2126fdc5cf578dd89fa'), ObjectId('663ba2126fdc5cf578dd89fb'), ObjectId('663ba2126fdc5cf578dd89fc'), ObjectId('663ba2126fdc5cf578dd89fd'), ObjectId('663ba2126fdc5cf578dd89fe'), ObjectId('663ba2126fdc5cf578dd89ff'), ObjectId('663ba2126fdc5cf578dd8a00'), ObjectId('663ba2126fdc5cf578dd8a01'), ObjectId('663ba2126fdc5cf578dd8a02'), ObjectId('663ba2126fdc5cf578dd8a03'), ObjectId('663ba2126fdc5cf578dd8a04'), ObjectId('663ba2126fdc5cf578dd8a05'), ObjectId('663ba2126fdc5cf578dd8a06'), ObjectId('663ba2126fdc5cf578dd8a07'), ObjectId('663ba2126fdc5cf578dd8a08'), ObjectId('663ba2126fdc5cf578dd8a09'), ObjectId('663ba2126fdc5cf578dd8a0a'), ObjectId('663ba2126fdc5cf578dd8a0b'), ObjectId('663ba2126fdc5cf578dd8a0c'), ObjectId('663ba2126fdc5cf578dd8a0d'), ObjectId('663ba2126fdc5cf578dd8a0e'), ObjectId('663ba2126fdc5cf578dd8a0f'), ObjectId('663ba2126fdc5cf578dd8a10'), ObjectId('663ba2126fdc5cf578dd8a11'), ObjectId('663ba2126fdc5cf578dd8a12'), ObjectId('663ba2126fdc5cf578dd8a13'), ObjectId('663ba2126fdc5cf578dd8a14'), ObjectId('663ba2126fdc5cf578dd8a15'), ObjectId('663ba2126fdc5cf578dd8a16'), ObjectId('663ba2126fdc5cf578dd8a17'), ObjectId('663ba2126fdc5cf578dd8a18'), ObjectId('663ba2126fdc5cf578dd8a19'), ObjectId('663ba2126fdc5cf578dd8a1a'), ObjectId('663ba2126fdc5cf578dd8a1b'), ObjectId('663ba2126fdc5cf578dd8a1c'), ObjectId('663ba2126fdc5cf578dd8a1d'), ObjectId('663ba2126fdc5cf578dd8a1e'), ObjectId('663ba2126fdc5cf578dd8a1f'), ObjectId('663ba2126fdc5cf578dd8a20'), ObjectId('663ba2126fdc5cf578dd8a21'), ObjectId('663ba2126fdc5cf578dd8a22'), ObjectId('663ba2126fdc5cf578dd8a23'), ObjectId('663ba2126fdc5cf578dd8a24'), ObjectId('663ba2126fdc5cf578dd8a25'), ObjectId('663ba2126fdc5cf578dd8a26'), ObjectId('663ba2126fdc5cf578dd8a27'), ObjectId('663ba2126fdc5cf578dd8a28'), ObjectId('663ba2126fdc5cf578dd8a29'), ObjectId('663ba2126fdc5cf578dd8a2a'), ObjectId('663ba2126fdc5cf578dd8a2b'), ObjectId('663ba2126fdc5cf578dd8a2c'), ObjectId('663ba2126fdc5cf578dd8a2d'), ObjectId('663ba2126fdc5cf578dd8a2e'), ObjectId('663ba2126fdc5cf578dd8a2f'), ObjectId('663ba2126fdc5cf578dd8a30'), ObjectId('663ba2126fdc5cf578dd8a31'), ObjectId('663ba2126fdc5cf578dd8a32'), ObjectId('663ba2126fdc5cf578dd8a33'), ObjectId('663ba2126fdc5cf578dd8a34'), ObjectId('663ba2126fdc5cf578dd8a35'), ObjectId('663ba2126fdc5cf578dd8a36'), ObjectId('663ba2126fdc5cf578dd8a37'), ObjectId('663ba2126fdc5cf578dd8a38'), ObjectId('663ba2126fdc5cf578dd8a39'), ObjectId('663ba2126fdc5cf578dd8a3a'), ObjectId('663ba2126fdc5cf578dd8a3b'), ObjectId('663ba2126fdc5cf578dd8a3c'), ObjectId('663ba2126fdc5cf578dd8a3d'), ObjectId('663ba2126fdc5cf578dd8a3e'), ObjectId('663ba2126fdc5cf578dd8a3f'), ObjectId('663ba2126fdc5cf578dd8a40'), ObjectId('663ba2126fdc5cf578dd8a41'), ObjectId('663ba2126fdc5cf578dd8a42'), ObjectId('663ba2126fdc5cf578dd8a43'), ObjectId('663ba2126fdc5cf578dd8a44'), ObjectId('663ba2126fdc5cf578dd8a45'), ObjectId('663ba2126fdc5cf578dd8a46'), ObjectId('663ba2126fdc5cf578dd8a47'), ObjectId('663ba2126fdc5cf578dd8a48'), ObjectId('663ba2126fdc5cf578dd8a49'), ObjectId('663ba2126fdc5cf578dd8a4a'), ObjectId('663ba2126fdc5cf578dd8a4b'), ObjectId('663ba2126fdc5cf578dd8a4c'), ObjectId('663ba2126fdc5cf578dd8a4d'), ObjectId('663ba2126fdc5cf578dd8a4e'), ObjectId('663ba2126fdc5cf578dd8a4f'), ObjectId('663ba2126fdc5cf578dd8a50'), ObjectId('663ba2126fdc5cf578dd8a51'), ObjectId('663ba2126fdc5cf578dd8a52'), ObjectId('663ba2126fdc5cf578dd8a53'), ObjectId('663ba2126fdc5cf578dd8a54'), ObjectId('663ba2126fdc5cf578dd8a55'), ObjectId('663ba2126fdc5cf578dd8a56'), ObjectId('663ba2126fdc5cf578dd8a57'), ObjectId('663ba2126fdc5cf578dd8a58'), ObjectId('663ba2126fdc5cf578dd8a59'), ObjectId('663ba2126fdc5cf578dd8a5a'), ObjectId('663ba2126fdc5cf578dd8a5b'), ObjectId('663ba2126fdc5cf578dd8a5c'), ObjectId('663ba2126fdc5cf578dd8a5d'), ObjectId('663ba2126fdc5cf578dd8a5e'), ObjectId('663ba2126fdc5cf578dd8a5f'), ObjectId('663ba2126fdc5cf578dd8a60'), ObjectId('663ba2126fdc5cf578dd8a61'), ObjectId('663ba2126fdc5cf578dd8a62'), ObjectId('663ba2126fdc5cf578dd8a63'), ObjectId('663ba2126fdc5cf578dd8a64'), ObjectId('663ba2126fdc5cf578dd8a65'), ObjectId('663ba2126fdc5cf578dd8a66'), ObjectId('663ba2126fdc5cf578dd8a67'), ObjectId('663ba2126fdc5cf578dd8a68'), ObjectId('663ba2126fdc5cf578dd8a69'), ObjectId('663ba2126fdc5cf578dd8a6a'), ObjectId('663ba2126fdc5cf578dd8a6b'), ObjectId('663ba2126fdc5cf578dd8a6c'), ObjectId('663ba2126fdc5cf578dd8a6d'), ObjectId('663ba2126fdc5cf578dd8a6e'), ObjectId('663ba2126fdc5cf578dd8a6f'), ObjectId('663ba2126fdc5cf578dd8a70'), ObjectId('663ba2126fdc5cf578dd8a71'), ObjectId('663ba2126fdc5cf578dd8a72'), ObjectId('663ba2126fdc5cf578dd8a73'), ObjectId('663ba2126fdc5cf578dd8a74'), ObjectId('663ba2126fdc5cf578dd8a75')], acknowledged=True)"
      ]
     },
     "execution_count": 18,
     "metadata": {},
     "output_type": "execute_result"
    }
   ],
   "source": [
    "# Inserir os documentos no mongodb\n",
    "mongo_collection.insert_many(documents)"
   ]
  },
  {
   "cell_type": "code",
   "execution_count": 19,
   "metadata": {},
   "outputs": [
    {
     "name": "stdout",
     "output_type": "stream",
     "text": [
      "Inseridos 800 documentos no MongoDB.\n"
     ]
    }
   ],
   "source": [
    "#Observar a quantidade de pokemons inseridos:\n",
    "print(f\"Inseridos {len(documents)} documentos no MongoDB.\")"
   ]
  },
  {
   "cell_type": "code",
   "execution_count": 20,
   "metadata": {},
   "outputs": [],
   "source": [
    "#Puxa a conexão novamente do banco de dados:\n",
    "client = pymongo.MongoClient('localhost', 27017)\n",
    "db = client['pokemon_db']\n",
    "collection = db['pokemon_name_hp_attack_defense_speed_type_1']"
   ]
  },
  {
   "cell_type": "code",
   "execution_count": 21,
   "metadata": {},
   "outputs": [
    {
     "name": "stdout",
     "output_type": "stream",
     "text": [
      "{'_id': ObjectId('663b9c880c633e5665c4d322'), 'name': 'Charmander', 'hp': 39, 'attack': 52, 'defense': 43, 'speed': 65, 'type_1': 'Fire'}\n"
     ]
    }
   ],
   "source": [
    "#Pesquisa pelo nome do pokemon, nesse caso, ele irá retornar o tipo também.\n",
    "result = collection.find_one({'name': 'Charmander'})\n",
    "print(result)"
   ]
  }
 ],
 "metadata": {
  "kernelspec": {
   "display_name": "Python 3",
   "language": "python",
   "name": "python3"
  },
  "language_info": {
   "codemirror_mode": {
    "name": "ipython",
    "version": 3
   },
   "file_extension": ".py",
   "mimetype": "text/x-python",
   "name": "python",
   "nbconvert_exporter": "python",
   "pygments_lexer": "ipython3",
   "version": "3.12.0"
  }
 },
 "nbformat": 4,
 "nbformat_minor": 2
}
