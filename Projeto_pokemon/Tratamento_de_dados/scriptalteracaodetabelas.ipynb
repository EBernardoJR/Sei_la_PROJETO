{
 "cells": [
  {
   "cell_type": "code",
   "execution_count": 2,
   "id": "a16b6217-2ecf-401c-a4a6-84c32cb3d7a7",
   "metadata": {},
   "outputs": [],
   "source": [
    "#Exclusão de tabelas e Tratamento dos dados:\n",
    "#Importa o pandas:\n",
    "#Instala o pandas, use esse comando no terminal: pip install --user pandas\n",
    "import pandas as pd"
   ]
  },
  {
   "cell_type": "code",
   "execution_count": 3,
   "id": "e44e8981-bb7a-49f1-b53b-d576fb0dbd19",
   "metadata": {},
   "outputs": [],
   "source": [
    "#Importa os dados do kaggle, baixados na máquina e envia para o arquivo do jupyter:\n",
    "dados = pd.read_csv('Pokemon.csv', index_col=0)"
   ]
  },
  {
   "cell_type": "code",
   "execution_count": 4,
   "id": "c9ab77bb-8556-411f-ac5c-a9bf94102c94",
   "metadata": {},
   "outputs": [
    {
     "data": {
      "text/plain": [
       "<bound method DataFrame.info of                       Name   Type 1  Type 2  Total  HP  Attack  Defense  \\\n",
       "#                                                                         \n",
       "1                Bulbasaur    Grass  Poison    318  45      49       49   \n",
       "2                  Ivysaur    Grass  Poison    405  60      62       63   \n",
       "3                 Venusaur    Grass  Poison    525  80      82       83   \n",
       "3    VenusaurMega Venusaur    Grass  Poison    625  80     100      123   \n",
       "4               Charmander     Fire     NaN    309  39      52       43   \n",
       "..                     ...      ...     ...    ...  ..     ...      ...   \n",
       "719                Diancie     Rock   Fairy    600  50     100      150   \n",
       "719    DiancieMega Diancie     Rock   Fairy    700  50     160      110   \n",
       "720    HoopaHoopa Confined  Psychic   Ghost    600  80     110       60   \n",
       "720     HoopaHoopa Unbound  Psychic    Dark    680  80     160       60   \n",
       "721              Volcanion     Fire   Water    600  80     110      120   \n",
       "\n",
       "     Sp. Atk  Sp. Def  Speed  Generation  Legendary  \n",
       "#                                                    \n",
       "1         65       65     45           1      False  \n",
       "2         80       80     60           1      False  \n",
       "3        100      100     80           1      False  \n",
       "3        122      120     80           1      False  \n",
       "4         60       50     65           1      False  \n",
       "..       ...      ...    ...         ...        ...  \n",
       "719      100      150     50           6       True  \n",
       "719      160      110    110           6       True  \n",
       "720      150      130     70           6       True  \n",
       "720      170      130     80           6       True  \n",
       "721      130       90     70           6       True  \n",
       "\n",
       "[800 rows x 12 columns]>"
      ]
     },
     "execution_count": 4,
     "metadata": {},
     "output_type": "execute_result"
    }
   ],
   "source": [
    "#Para ter acesso aos dados:\n",
    "dados.info"
   ]
  },
  {
   "cell_type": "code",
   "execution_count": 5,
   "id": "5b6041bc-72fa-4039-b94b-3db668f88250",
   "metadata": {},
   "outputs": [],
   "source": [
    "#Excluir as tabelas que não iremos utilizar:\n",
    "dados.drop('Total', axis = 1, inplace=True)\n",
    "dados.drop('Sp. Atk', axis = 1, inplace=True)\n",
    "dados.drop('Sp. Def', axis = 1, inplace=True)\n",
    "dados.drop('Generation', axis = 1, inplace=True)\n",
    "dados.drop('Legendary', axis = 1, inplace=True)"
   ]
  },
  {
   "cell_type": "code",
   "execution_count": 6,
   "id": "e0fa0d4b",
   "metadata": {},
   "outputs": [
    {
     "data": {
      "text/plain": [
       "Name       False\n",
       "Type 1     False\n",
       "Type 2      True\n",
       "HP         False\n",
       "Attack     False\n",
       "Defense    False\n",
       "Speed      False\n",
       "dtype: bool"
      ]
     },
     "execution_count": 6,
     "metadata": {},
     "output_type": "execute_result"
    }
   ],
   "source": [
    "#Para verificar se possui algum valor vazio:\n",
    "dados.isna().any()"
   ]
  },
  {
   "cell_type": "code",
   "execution_count": 7,
   "id": "cc80ccc7",
   "metadata": {},
   "outputs": [
    {
     "data": {
      "text/html": [
       "<div>\n",
       "<style scoped>\n",
       "    .dataframe tbody tr th:only-of-type {\n",
       "        vertical-align: middle;\n",
       "    }\n",
       "\n",
       "    .dataframe tbody tr th {\n",
       "        vertical-align: top;\n",
       "    }\n",
       "\n",
       "    .dataframe thead th {\n",
       "        text-align: right;\n",
       "    }\n",
       "</style>\n",
       "<table border=\"1\" class=\"dataframe\">\n",
       "  <thead>\n",
       "    <tr style=\"text-align: right;\">\n",
       "      <th></th>\n",
       "      <th>Name</th>\n",
       "      <th>Type 1</th>\n",
       "      <th>Type 2</th>\n",
       "      <th>HP</th>\n",
       "      <th>Attack</th>\n",
       "      <th>Defense</th>\n",
       "      <th>Speed</th>\n",
       "    </tr>\n",
       "    <tr>\n",
       "      <th>#</th>\n",
       "      <th></th>\n",
       "      <th></th>\n",
       "      <th></th>\n",
       "      <th></th>\n",
       "      <th></th>\n",
       "      <th></th>\n",
       "      <th></th>\n",
       "    </tr>\n",
       "  </thead>\n",
       "  <tbody>\n",
       "    <tr>\n",
       "      <th>29</th>\n",
       "      <td>Nidoran♀</td>\n",
       "      <td>Poison</td>\n",
       "      <td>NaN</td>\n",
       "      <td>55</td>\n",
       "      <td>47</td>\n",
       "      <td>52</td>\n",
       "      <td>41</td>\n",
       "    </tr>\n",
       "    <tr>\n",
       "      <th>32</th>\n",
       "      <td>Nidoran♂</td>\n",
       "      <td>Poison</td>\n",
       "      <td>NaN</td>\n",
       "      <td>46</td>\n",
       "      <td>57</td>\n",
       "      <td>40</td>\n",
       "      <td>50</td>\n",
       "    </tr>\n",
       "  </tbody>\n",
       "</table>\n",
       "</div>"
      ],
      "text/plain": [
       "        Name  Type 1 Type 2  HP  Attack  Defense  Speed\n",
       "#                                                      \n",
       "29  Nidoran♀  Poison    NaN  55      47       52     41\n",
       "32  Nidoran♂  Poison    NaN  46      57       40     50"
      ]
     },
     "execution_count": 7,
     "metadata": {},
     "output_type": "execute_result"
    }
   ],
   "source": [
    "#Alterar símbolo de um caractere especial, para não dar erro:\n",
    "#Comando para observar nas linhas:\n",
    "dados.loc[[29,32]]"
   ]
  },
  {
   "cell_type": "code",
   "execution_count": 8,
   "id": "f0d29f67",
   "metadata": {},
   "outputs": [],
   "source": [
    "#Comando para renomear:\n",
    "new_dados = pd.DataFrame({'Name': ['Nidoran_female', 'Nidoran_male']}, index=[29, 32])"
   ]
  },
  {
   "cell_type": "code",
   "execution_count": 10,
   "id": "80f75290",
   "metadata": {},
   "outputs": [],
   "source": [
    "dados.update(new_dados)"
   ]
  },
  {
   "cell_type": "code",
   "execution_count": 11,
   "id": "8fbc8399",
   "metadata": {},
   "outputs": [
    {
     "data": {
      "text/html": [
       "<div>\n",
       "<style scoped>\n",
       "    .dataframe tbody tr th:only-of-type {\n",
       "        vertical-align: middle;\n",
       "    }\n",
       "\n",
       "    .dataframe tbody tr th {\n",
       "        vertical-align: top;\n",
       "    }\n",
       "\n",
       "    .dataframe thead th {\n",
       "        text-align: right;\n",
       "    }\n",
       "</style>\n",
       "<table border=\"1\" class=\"dataframe\">\n",
       "  <thead>\n",
       "    <tr style=\"text-align: right;\">\n",
       "      <th></th>\n",
       "      <th>Name</th>\n",
       "      <th>Type 1</th>\n",
       "      <th>Type 2</th>\n",
       "      <th>HP</th>\n",
       "      <th>Attack</th>\n",
       "      <th>Defense</th>\n",
       "      <th>Speed</th>\n",
       "    </tr>\n",
       "    <tr>\n",
       "      <th>#</th>\n",
       "      <th></th>\n",
       "      <th></th>\n",
       "      <th></th>\n",
       "      <th></th>\n",
       "      <th></th>\n",
       "      <th></th>\n",
       "      <th></th>\n",
       "    </tr>\n",
       "  </thead>\n",
       "  <tbody>\n",
       "    <tr>\n",
       "      <th>29</th>\n",
       "      <td>Nidoran_female</td>\n",
       "      <td>Poison</td>\n",
       "      <td>NaN</td>\n",
       "      <td>55</td>\n",
       "      <td>47</td>\n",
       "      <td>52</td>\n",
       "      <td>41</td>\n",
       "    </tr>\n",
       "    <tr>\n",
       "      <th>32</th>\n",
       "      <td>Nidoran_male</td>\n",
       "      <td>Poison</td>\n",
       "      <td>NaN</td>\n",
       "      <td>46</td>\n",
       "      <td>57</td>\n",
       "      <td>40</td>\n",
       "      <td>50</td>\n",
       "    </tr>\n",
       "  </tbody>\n",
       "</table>\n",
       "</div>"
      ],
      "text/plain": [
       "              Name  Type 1 Type 2  HP  Attack  Defense  Speed\n",
       "#                                                            \n",
       "29  Nidoran_female  Poison    NaN  55      47       52     41\n",
       "32    Nidoran_male  Poison    NaN  46      57       40     50"
      ]
     },
     "execution_count": 11,
     "metadata": {},
     "output_type": "execute_result"
    }
   ],
   "source": [
    "#Para verificar se as alterações foram realizadas:\n",
    "dados.loc[[29, 32]]"
   ]
  },
  {
   "cell_type": "code",
   "execution_count": 12,
   "id": "e0e89f16",
   "metadata": {},
   "outputs": [],
   "source": [
    "#Selecionar o Name como Index, para deletar os dados '#' que está como index atual.\n",
    "dados.set_index('Name', inplace=True)"
   ]
  },
  {
   "cell_type": "code",
   "execution_count": 13,
   "id": "0bfd5a09",
   "metadata": {},
   "outputs": [
    {
     "data": {
      "text/html": [
       "<div>\n",
       "<style scoped>\n",
       "    .dataframe tbody tr th:only-of-type {\n",
       "        vertical-align: middle;\n",
       "    }\n",
       "\n",
       "    .dataframe tbody tr th {\n",
       "        vertical-align: top;\n",
       "    }\n",
       "\n",
       "    .dataframe thead th {\n",
       "        text-align: right;\n",
       "    }\n",
       "</style>\n",
       "<table border=\"1\" class=\"dataframe\">\n",
       "  <thead>\n",
       "    <tr style=\"text-align: right;\">\n",
       "      <th></th>\n",
       "      <th>Type 1</th>\n",
       "      <th>Type 2</th>\n",
       "      <th>HP</th>\n",
       "      <th>Attack</th>\n",
       "      <th>Defense</th>\n",
       "      <th>Speed</th>\n",
       "    </tr>\n",
       "    <tr>\n",
       "      <th>Name</th>\n",
       "      <th></th>\n",
       "      <th></th>\n",
       "      <th></th>\n",
       "      <th></th>\n",
       "      <th></th>\n",
       "      <th></th>\n",
       "    </tr>\n",
       "  </thead>\n",
       "  <tbody>\n",
       "    <tr>\n",
       "      <th>Bulbasaur</th>\n",
       "      <td>Grass</td>\n",
       "      <td>Poison</td>\n",
       "      <td>45</td>\n",
       "      <td>49</td>\n",
       "      <td>49</td>\n",
       "      <td>45</td>\n",
       "    </tr>\n",
       "    <tr>\n",
       "      <th>Ivysaur</th>\n",
       "      <td>Grass</td>\n",
       "      <td>Poison</td>\n",
       "      <td>60</td>\n",
       "      <td>62</td>\n",
       "      <td>63</td>\n",
       "      <td>60</td>\n",
       "    </tr>\n",
       "    <tr>\n",
       "      <th>Venusaur</th>\n",
       "      <td>Grass</td>\n",
       "      <td>Poison</td>\n",
       "      <td>80</td>\n",
       "      <td>82</td>\n",
       "      <td>83</td>\n",
       "      <td>80</td>\n",
       "    </tr>\n",
       "    <tr>\n",
       "      <th>VenusaurMega Venusaur</th>\n",
       "      <td>Grass</td>\n",
       "      <td>Poison</td>\n",
       "      <td>80</td>\n",
       "      <td>100</td>\n",
       "      <td>123</td>\n",
       "      <td>80</td>\n",
       "    </tr>\n",
       "    <tr>\n",
       "      <th>Charmander</th>\n",
       "      <td>Fire</td>\n",
       "      <td>NaN</td>\n",
       "      <td>39</td>\n",
       "      <td>52</td>\n",
       "      <td>43</td>\n",
       "      <td>65</td>\n",
       "    </tr>\n",
       "  </tbody>\n",
       "</table>\n",
       "</div>"
      ],
      "text/plain": [
       "                      Type 1  Type 2  HP  Attack  Defense  Speed\n",
       "Name                                                            \n",
       "Bulbasaur              Grass  Poison  45      49       49     45\n",
       "Ivysaur                Grass  Poison  60      62       63     60\n",
       "Venusaur               Grass  Poison  80      82       83     80\n",
       "VenusaurMega Venusaur  Grass  Poison  80     100      123     80\n",
       "Charmander              Fire     NaN  39      52       43     65"
      ]
     },
     "execution_count": 13,
     "metadata": {},
     "output_type": "execute_result"
    }
   ],
   "source": [
    "#Salvar alterações nos dados:\n",
    "dados.head()"
   ]
  },
  {
   "cell_type": "code",
   "execution_count": 14,
   "id": "53bfb09b-50a3-4d4f-a477-c63696959ac0",
   "metadata": {},
   "outputs": [],
   "source": [
    "#Para salvar as alterações feitas da exclusão das tabelas:\n",
    "dados.to_csv('Pokemon_alterados.csv')"
   ]
  }
 ],
 "metadata": {
  "kernelspec": {
   "display_name": "Python 3 (ipykernel)",
   "language": "python",
   "name": "python3"
  },
  "language_info": {
   "codemirror_mode": {
    "name": "ipython",
    "version": 3
   },
   "file_extension": ".py",
   "mimetype": "text/x-python",
   "name": "python",
   "nbconvert_exporter": "python",
   "pygments_lexer": "ipython3",
   "version": "3.11.0"
  }
 },
 "nbformat": 4,
 "nbformat_minor": 5
}
